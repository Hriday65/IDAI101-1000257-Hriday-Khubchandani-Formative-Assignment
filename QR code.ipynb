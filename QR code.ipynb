{
 "cells": [
  {
   "cell_type": "raw",
   "id": "9c8ff01e-32aa-4a58-a89b-3ab321e82fba",
   "metadata": {},
   "source": [
    "import pyqrcode"
   ]
  },
  {
   "cell_type": "code",
   "execution_count": null,
   "id": "eb2047c3-accb-4850-9e2c-ee5e85d4d527",
   "metadata": {},
   "outputs": [],
   "source": [
    "name = 'My QR 1' "
   ]
  },
  {
   "cell_type": "code",
   "execution_count": null,
   "id": "a0c25a31-435e-4368-b5ae-131819cabbf0",
   "metadata": {},
   "outputs": [],
   "source": [
    "QR = pyqrcode.create(name)"
   ]
  },
  {
   "cell_type": "code",
   "execution_count": null,
   "id": "6b63d9b9-8bce-4dbe-b749-7674978eeb5c",
   "metadata": {},
   "outputs": [],
   "source": [
    "import os"
   ]
  },
  {
   "cell_type": "code",
   "execution_count": null,
   "id": "5fd9e5db-f103-4d1d-bded-6eba68f55e0a",
   "metadata": {},
   "outputs": [],
   "source": [
    "os.system('My.png'"
   ]
  }
 ],
 "metadata": {
  "kernelspec": {
   "display_name": "Python 3 (ipykernel)",
   "language": "python",
   "name": "python3"
  },
  "language_info": {
   "codemirror_mode": {
    "name": "ipython",
    "version": 3
   },
   "file_extension": ".py",
   "mimetype": "text/x-python",
   "name": "python",
   "nbconvert_exporter": "python",
   "pygments_lexer": "ipython3",
   "version": "3.12.7"
  }
 },
 "nbformat": 4,
 "nbformat_minor": 5
}
